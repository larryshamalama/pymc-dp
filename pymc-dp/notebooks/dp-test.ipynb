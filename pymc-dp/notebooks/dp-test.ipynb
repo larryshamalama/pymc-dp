{
 "cells": [
  {
   "cell_type": "code",
   "execution_count": 1,
   "id": "72e12ae0",
   "metadata": {},
   "outputs": [],
   "source": [
    "import pymc as pm\n",
    "import numpy as np\n",
    "\n",
    "from aesara.compile.builders import OpFromGraph"
   ]
  },
  {
   "cell_type": "code",
   "execution_count": 4,
   "id": "4b30ce03",
   "metadata": {},
   "outputs": [
    {
     "name": "stdout",
     "output_type": "stream",
     "text": [
      "[RandomGeneratorSharedVariable(<Generator(PCG64) at 0x170DAB900>), TensorConstant{(2,) of 0.5}, normal_rv{0, (0, 0), floatX, False}.out]\n",
      "[MarginalMixtureRV{inline=False}.0, mix]\n",
      "[RandomGeneratorSharedVariable(<Generator(PCG64) at 0x170DAB900>), TensorConstant{(2,) of 0.5}, normal_rv{0, (0, 0), floatX, False}.out]\n",
      "[MarginalMixtureRV{inline=False}.0, mix]\n"
     ]
    }
   ],
   "source": [
    "with pm.Model() as model:\n",
    "    mu = pm.Normal(\"mu\", [-5, 5], 4.)\n",
    "    mix = pm.NormalMixture(\"mix\", w=[0.5, 0.5], mu=mu, sigma=1.)\n",
    "    \n",
    "    prior = pm.sample_prior_predictive()"
   ]
  },
  {
   "cell_type": "code",
   "execution_count": null,
   "id": "d3241710",
   "metadata": {},
   "outputs": [],
   "source": [
    "class _LatentDirichletProcessRV(OpFromGraph):\n",
    "    \n",
    "    def update(self, node):\n",
    "        return {node.inputs[0]: node.outputs[0]}\n",
    "    \n"
   ]
  },
  {
   "cell_type": "code",
   "execution_count": null,
   "id": "4bc7d35f",
   "metadata": {},
   "outputs": [],
   "source": [
    "class CustomNormal(pm.Normal):\n",
    "    rv_op = pm.Normal.rv_op\n",
    "    \n",
    "    def __new__(cls, name, mu, sigma, observed=None, **kwargs):\n",
    "        if observed is None:\n",
    "            return super().__new__(cls, name=name, mu=mu, sigma=sigma, observed=None, **kwargs)\n",
    "        else:\n",
    "            return super().__new__(cls, name=name, mu=mu+3, sigma=sigma, observed=None, **kwargs)\n",
    "        \n",
    "    @classmethod\n",
    "    def ndim_supp(cls):\n",
    "        return 1"
   ]
  },
  {
   "cell_type": "code",
   "execution_count": null,
   "id": "ca50f9f8",
   "metadata": {},
   "outputs": [],
   "source": [
    "with pm.Model() as model:\n",
    "    norm = CustomNormal(\"norm\", 0., 5., observed=np.array([1, 2, 3]))"
   ]
  },
  {
   "cell_type": "code",
   "execution_count": null,
   "id": "02304889",
   "metadata": {},
   "outputs": [],
   "source": [
    "model.free_RVs"
   ]
  },
  {
   "cell_type": "code",
   "execution_count": null,
   "id": "94d60d3c",
   "metadata": {},
   "outputs": [],
   "source": []
  }
 ],
 "metadata": {
  "kernelspec": {
   "display_name": "pymc-dev-py39",
   "language": "python",
   "name": "pymc-dev-py39"
  },
  "language_info": {
   "codemirror_mode": {
    "name": "ipython",
    "version": 3
   },
   "file_extension": ".py",
   "mimetype": "text/x-python",
   "name": "python",
   "nbconvert_exporter": "python",
   "pygments_lexer": "ipython3",
   "version": "3.9.12"
  }
 },
 "nbformat": 4,
 "nbformat_minor": 5
}
