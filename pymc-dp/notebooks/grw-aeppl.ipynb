{
 "cells": [
  {
   "cell_type": "code",
   "execution_count": 1,
   "id": "25c8672c",
   "metadata": {},
   "outputs": [
    {
     "data": {
      "text/plain": [
       "'0.0.31'"
      ]
     },
     "execution_count": 1,
     "metadata": {},
     "output_type": "execute_result"
    }
   ],
   "source": [
    "import pymc as pm\n",
    "import numpy as np\n",
    "\n",
    "import aesara.tensor as at\n",
    "import aesara\n",
    "\n",
    "from aeppl import joint_logprob\n",
    "\n",
    "from pymc_experimental import dp\n",
    "\n",
    "import aeppl; aeppl.__version__"
   ]
  },
  {
   "cell_type": "code",
   "execution_count": 2,
   "id": "be2038d6",
   "metadata": {},
   "outputs": [
    {
     "name": "stderr",
     "output_type": "stream",
     "text": [
      "/Users/larryshamalama/Documents/GitHub/pymc/pymc/initial_point.py:259: UserWarning: Moment not defined for variable grw of type CumOp, defaulting to a draw from the prior. This can lead to difficulties during tuning. You can manually define an initval or implement a moment dispatched function for this distribution.\n",
      "  warnings.warn(\n",
      "/Users/larryshamalama/Documents/GitHub/pymc/pymc/initial_point.py:259: UserWarning: Moment not defined for variable grw of type CumOp, defaulting to a draw from the prior. This can lead to difficulties during tuning. You can manually define an initval or implement a moment dispatched function for this distribution.\n",
      "  warnings.warn(\n",
      "Auto-assigning NUTS sampler...\n",
      "Initializing NUTS using jitter+adapt_diag...\n",
      "/Users/larryshamalama/Documents/GitHub/pymc/pymc/initial_point.py:259: UserWarning: Moment not defined for variable grw of type CumOp, defaulting to a draw from the prior. This can lead to difficulties during tuning. You can manually define an initval or implement a moment dispatched function for this distribution.\n",
      "  warnings.warn(\n",
      "Sequential sampling (1 chains in 1 job)\n",
      "NUTS: [grw]\n"
     ]
    },
    {
     "data": {
      "text/html": [
       "\n",
       "<style>\n",
       "    /* Turns off some styling */\n",
       "    progress {\n",
       "        /* gets rid of default border in Firefox and Opera. */\n",
       "        border: none;\n",
       "        /* Needs to be in here for Safari polyfill so background images work as expected. */\n",
       "        background-size: auto;\n",
       "    }\n",
       "    .progress-bar-interrupted, .progress-bar-interrupted::-webkit-progress-bar {\n",
       "        background: #F44336;\n",
       "    }\n",
       "</style>\n"
      ],
      "text/plain": [
       "<IPython.core.display.HTML object>"
      ]
     },
     "metadata": {},
     "output_type": "display_data"
    },
    {
     "data": {
      "text/html": [
       "\n",
       "    <div>\n",
       "      <progress value='2000' class='' max='2000' style='width:300px; height:20px; vertical-align: middle;'></progress>\n",
       "      100.00% [2000/2000 00:07<00:00 Sampling chain 0, 0 divergences]\n",
       "    </div>\n",
       "    "
      ],
      "text/plain": [
       "<IPython.core.display.HTML object>"
      ]
     },
     "metadata": {},
     "output_type": "display_data"
    },
    {
     "name": "stderr",
     "output_type": "stream",
     "text": [
      "/Users/larryshamalama/Documents/GitHub/pymc/pymc/initial_point.py:259: UserWarning: Moment not defined for variable grw of type CumOp, defaulting to a draw from the prior. This can lead to difficulties during tuning. You can manually define an initval or implement a moment dispatched function for this distribution.\n",
      "  warnings.warn(\n",
      "Sampling 1 chain for 1_000 tune and 1_000 draw iterations (1_000 + 1_000 draws total) took 8 seconds.\n"
     ]
    }
   ],
   "source": [
    "with pm.Model() as model:\n",
    "    grw = pm.GaussianRandomWalk(\"grw\", init=pm.Normal.dist(0, 1), steps=10, shape=(2, 11))\n",
    "    \n",
    "    trace = pm.sample(chains=1)"
   ]
  },
  {
   "cell_type": "code",
   "execution_count": 9,
   "id": "656cb295",
   "metadata": {},
   "outputs": [
    {
     "data": {
      "text/plain": [
       "(1000, 2, 11)"
      ]
     },
     "execution_count": 9,
     "metadata": {},
     "output_type": "execute_result"
    }
   ],
   "source": [
    "trace.to_dict()[\"posterior\"][\"grw\"][0].shape"
   ]
  },
  {
   "cell_type": "code",
   "execution_count": 14,
   "id": "9e6b9849",
   "metadata": {},
   "outputs": [
    {
     "name": "stderr",
     "output_type": "stream",
     "text": [
      "<<!! BUG IN FGRAPH.REPLACE OR A LISTENER !!>> <class 'TypeError'> Cannot convert Type TensorType(float64, (3,)) (of Variable TensorConstant{(3,) of 1.0}) into Type TensorType(float64, (13,)). You can try to manually convert TensorConstant{(3,) of 1.0} into a TensorType(float64, (13,)). constant_folding\n",
      "ERROR (aesara.graph.opt): Optimization failure due to: constant_folding\n",
      "ERROR (aesara.graph.opt): node: Split{2}(TensorConstant{(13,) of 1.0}, TensorConstant{0}, TensorConstant{[ 3 10]})\n",
      "ERROR (aesara.graph.opt): TRACEBACK:\n",
      "ERROR (aesara.graph.opt): Traceback (most recent call last):\n",
      "  File \"/Users/larryshamalama/Documents/GitHub/aesara/aesara/graph/opt.py\", line 1907, in process_node\n",
      "    fgraph.replace_all_validate_remove(repl_pairs, reason=lopt, remove=remove)\n",
      "  File \"/Users/larryshamalama/Documents/GitHub/aesara/aesara/graph/features.py\", line 625, in replace_all_validate_remove\n",
      "    chk = fgraph.replace_all_validate(replacements, reason=reason, **kwargs)\n",
      "  File \"/Users/larryshamalama/Documents/GitHub/aesara/aesara/graph/features.py\", line 570, in replace_all_validate\n",
      "    fgraph.replace(r, new_r, reason=reason, verbose=False, **kwargs)\n",
      "  File \"/Users/larryshamalama/Documents/GitHub/aesara/aesara/graph/fg.py\", line 487, in replace\n",
      "    new_var = var.type.filter_variable(new_var, allow_convert=True)\n",
      "  File \"/Users/larryshamalama/Documents/GitHub/aesara/aesara/tensor/type.py\", line 261, in filter_variable\n",
      "    raise TypeError(\n",
      "TypeError: Cannot convert Type TensorType(float64, (3,)) (of Variable TensorConstant{(3,) of 1.0}) into Type TensorType(float64, (13,)). You can try to manually convert TensorConstant{(3,) of 1.0} into a TensorType(float64, (13,)).\n",
      "\n",
      "<<!! BUG IN FGRAPH.REPLACE OR A LISTENER !!>> <class 'TypeError'> Cannot convert Type TensorType(float64, (3,)) (of Variable TensorConstant{(3,) of 1.0}) into Type TensorType(float64, (13,)). You can try to manually convert TensorConstant{(3,) of 1.0} into a TensorType(float64, (13,)). constant_folding\n",
      "ERROR (aesara.graph.opt): Optimization failure due to: constant_folding\n",
      "ERROR (aesara.graph.opt): node: Split{2}(TensorConstant{(13,) of 1.0}, TensorConstant{0}, TensorConstant{[ 3 10]})\n",
      "ERROR (aesara.graph.opt): TRACEBACK:\n",
      "ERROR (aesara.graph.opt): Traceback (most recent call last):\n",
      "  File \"/Users/larryshamalama/Documents/GitHub/aesara/aesara/graph/opt.py\", line 1907, in process_node\n",
      "    fgraph.replace_all_validate_remove(repl_pairs, reason=lopt, remove=remove)\n",
      "  File \"/Users/larryshamalama/Documents/GitHub/aesara/aesara/graph/features.py\", line 625, in replace_all_validate_remove\n",
      "    chk = fgraph.replace_all_validate(replacements, reason=reason, **kwargs)\n",
      "  File \"/Users/larryshamalama/Documents/GitHub/aesara/aesara/graph/features.py\", line 570, in replace_all_validate\n",
      "    fgraph.replace(r, new_r, reason=reason, verbose=False, **kwargs)\n",
      "  File \"/Users/larryshamalama/Documents/GitHub/aesara/aesara/graph/fg.py\", line 487, in replace\n",
      "    new_var = var.type.filter_variable(new_var, allow_convert=True)\n",
      "  File \"/Users/larryshamalama/Documents/GitHub/aesara/aesara/tensor/type.py\", line 261, in filter_variable\n",
      "    raise TypeError(\n",
      "TypeError: Cannot convert Type TensorType(float64, (3,)) (of Variable TensorConstant{(3,) of 1.0}) into Type TensorType(float64, (13,)). You can try to manually convert TensorConstant{(3,) of 1.0} into a TensorType(float64, (13,)).\n",
      "\n",
      "<<!! BUG IN FGRAPH.REPLACE OR A LISTENER !!>> <class 'TypeError'> Cannot convert Type TensorType(float64, (3,)) (of Variable TensorConstant{(3,) of 1.0}) into Type TensorType(float64, (13,)). You can try to manually convert TensorConstant{(3,) of 1.0} into a TensorType(float64, (13,)). constant_folding\n",
      "ERROR (aesara.graph.opt): Optimization failure due to: constant_folding\n",
      "ERROR (aesara.graph.opt): node: Split{2}(TensorConstant{(13,) of 1.0}, TensorConstant{0}, TensorConstant{[ 3 10]})\n",
      "ERROR (aesara.graph.opt): TRACEBACK:\n",
      "ERROR (aesara.graph.opt): Traceback (most recent call last):\n",
      "  File \"/Users/larryshamalama/Documents/GitHub/aesara/aesara/graph/opt.py\", line 1907, in process_node\n",
      "    fgraph.replace_all_validate_remove(repl_pairs, reason=lopt, remove=remove)\n",
      "  File \"/Users/larryshamalama/Documents/GitHub/aesara/aesara/graph/features.py\", line 625, in replace_all_validate_remove\n",
      "    chk = fgraph.replace_all_validate(replacements, reason=reason, **kwargs)\n",
      "  File \"/Users/larryshamalama/Documents/GitHub/aesara/aesara/graph/features.py\", line 570, in replace_all_validate\n",
      "    fgraph.replace(r, new_r, reason=reason, verbose=False, **kwargs)\n",
      "  File \"/Users/larryshamalama/Documents/GitHub/aesara/aesara/graph/fg.py\", line 487, in replace\n",
      "    new_var = var.type.filter_variable(new_var, allow_convert=True)\n",
      "  File \"/Users/larryshamalama/Documents/GitHub/aesara/aesara/tensor/type.py\", line 261, in filter_variable\n",
      "    raise TypeError(\n",
      "TypeError: Cannot convert Type TensorType(float64, (3,)) (of Variable TensorConstant{(3,) of 1.0}) into Type TensorType(float64, (13,)). You can try to manually convert TensorConstant{(3,) of 1.0} into a TensorType(float64, (13,)).\n",
      "\n",
      "<<!! BUG IN FGRAPH.REPLACE OR A LISTENER !!>> <class 'TypeError'> Cannot convert Type TensorType(float64, (3,)) (of Variable TensorConstant{(3,) of 1.0}) into Type TensorType(float64, (13,)). You can try to manually convert TensorConstant{(3,) of 1.0} into a TensorType(float64, (13,)). constant_folding\n",
      "ERROR (aesara.graph.opt): Optimization failure due to: constant_folding\n",
      "ERROR (aesara.graph.opt): node: Split{2}(TensorConstant{(13,) of 1.0}, TensorConstant{0}, TensorConstant{[ 3 10]})\n",
      "ERROR (aesara.graph.opt): TRACEBACK:\n",
      "ERROR (aesara.graph.opt): Traceback (most recent call last):\n",
      "  File \"/Users/larryshamalama/Documents/GitHub/aesara/aesara/graph/opt.py\", line 1907, in process_node\n",
      "    fgraph.replace_all_validate_remove(repl_pairs, reason=lopt, remove=remove)\n",
      "  File \"/Users/larryshamalama/Documents/GitHub/aesara/aesara/graph/features.py\", line 625, in replace_all_validate_remove\n",
      "    chk = fgraph.replace_all_validate(replacements, reason=reason, **kwargs)\n",
      "  File \"/Users/larryshamalama/Documents/GitHub/aesara/aesara/graph/features.py\", line 570, in replace_all_validate\n",
      "    fgraph.replace(r, new_r, reason=reason, verbose=False, **kwargs)\n",
      "  File \"/Users/larryshamalama/Documents/GitHub/aesara/aesara/graph/fg.py\", line 487, in replace\n",
      "    new_var = var.type.filter_variable(new_var, allow_convert=True)\n",
      "  File \"/Users/larryshamalama/Documents/GitHub/aesara/aesara/tensor/type.py\", line 261, in filter_variable\n",
      "    raise TypeError(\n",
      "TypeError: Cannot convert Type TensorType(float64, (3,)) (of Variable TensorConstant{(3,) of 1.0}) into Type TensorType(float64, (13,)). You can try to manually convert TensorConstant{(3,) of 1.0} into a TensorType(float64, (13,)).\n",
      "\n",
      "<<!! BUG IN FGRAPH.REPLACE OR A LISTENER !!>> <class 'TypeError'> Cannot convert Type TensorType(float64, (3,)) (of Variable TensorConstant{(3,) of 1.0}) into Type TensorType(float64, (13,)). You can try to manually convert TensorConstant{(3,) of 1.0} into a TensorType(float64, (13,)). constant_folding\n",
      "ERROR (aesara.graph.opt): Optimization failure due to: constant_folding\n",
      "ERROR (aesara.graph.opt): node: Split{2}(TensorConstant{(13,) of 1.0}, TensorConstant{0}, TensorConstant{[ 3 10]})\n",
      "ERROR (aesara.graph.opt): TRACEBACK:\n",
      "ERROR (aesara.graph.opt): Traceback (most recent call last):\n",
      "  File \"/Users/larryshamalama/Documents/GitHub/aesara/aesara/graph/opt.py\", line 1907, in process_node\n",
      "    fgraph.replace_all_validate_remove(repl_pairs, reason=lopt, remove=remove)\n",
      "  File \"/Users/larryshamalama/Documents/GitHub/aesara/aesara/graph/features.py\", line 625, in replace_all_validate_remove\n",
      "    chk = fgraph.replace_all_validate(replacements, reason=reason, **kwargs)\n",
      "  File \"/Users/larryshamalama/Documents/GitHub/aesara/aesara/graph/features.py\", line 570, in replace_all_validate\n",
      "    fgraph.replace(r, new_r, reason=reason, verbose=False, **kwargs)\n",
      "  File \"/Users/larryshamalama/Documents/GitHub/aesara/aesara/graph/fg.py\", line 487, in replace\n",
      "    new_var = var.type.filter_variable(new_var, allow_convert=True)\n",
      "  File \"/Users/larryshamalama/Documents/GitHub/aesara/aesara/tensor/type.py\", line 261, in filter_variable\n",
      "    raise TypeError(\n",
      "TypeError: Cannot convert Type TensorType(float64, (3,)) (of Variable TensorConstant{(3,) of 1.0}) into Type TensorType(float64, (13,)). You can try to manually convert TensorConstant{(3,) of 1.0} into a TensorType(float64, (13,)).\n",
      "\n"
     ]
    },
    {
     "name": "stderr",
     "output_type": "stream",
     "text": [
      "<<!! BUG IN FGRAPH.REPLACE OR A LISTENER !!>> <class 'TypeError'> Cannot convert Type TensorType(float64, (3,)) (of Variable TensorConstant{(3,) of 1.0}) into Type TensorType(float64, (13,)). You can try to manually convert TensorConstant{(3,) of 1.0} into a TensorType(float64, (13,)). constant_folding\n",
      "ERROR (aesara.graph.opt): Optimization failure due to: constant_folding\n",
      "ERROR (aesara.graph.opt): node: Split{2}(TensorConstant{(13,) of 1.0}, TensorConstant{0}, TensorConstant{[ 3 10]})\n",
      "ERROR (aesara.graph.opt): TRACEBACK:\n",
      "ERROR (aesara.graph.opt): Traceback (most recent call last):\n",
      "  File \"/Users/larryshamalama/Documents/GitHub/aesara/aesara/graph/opt.py\", line 1907, in process_node\n",
      "    fgraph.replace_all_validate_remove(repl_pairs, reason=lopt, remove=remove)\n",
      "  File \"/Users/larryshamalama/Documents/GitHub/aesara/aesara/graph/features.py\", line 625, in replace_all_validate_remove\n",
      "    chk = fgraph.replace_all_validate(replacements, reason=reason, **kwargs)\n",
      "  File \"/Users/larryshamalama/Documents/GitHub/aesara/aesara/graph/features.py\", line 570, in replace_all_validate\n",
      "    fgraph.replace(r, new_r, reason=reason, verbose=False, **kwargs)\n",
      "  File \"/Users/larryshamalama/Documents/GitHub/aesara/aesara/graph/fg.py\", line 487, in replace\n",
      "    new_var = var.type.filter_variable(new_var, allow_convert=True)\n",
      "  File \"/Users/larryshamalama/Documents/GitHub/aesara/aesara/tensor/type.py\", line 261, in filter_variable\n",
      "    raise TypeError(\n",
      "TypeError: Cannot convert Type TensorType(float64, (3,)) (of Variable TensorConstant{(3,) of 1.0}) into Type TensorType(float64, (13,)). You can try to manually convert TensorConstant{(3,) of 1.0} into a TensorType(float64, (13,)).\n",
      "\n",
      "<<!! BUG IN FGRAPH.REPLACE OR A LISTENER !!>> <class 'TypeError'> Cannot convert Type TensorType(float64, (3,)) (of Variable TensorConstant{(3,) of 1.0}) into Type TensorType(float64, (13,)). You can try to manually convert TensorConstant{(3,) of 1.0} into a TensorType(float64, (13,)). constant_folding\n",
      "ERROR (aesara.graph.opt): Optimization failure due to: constant_folding\n",
      "ERROR (aesara.graph.opt): node: Split{2}(TensorConstant{(13,) of 1.0}, TensorConstant{0}, TensorConstant{[ 3 10]})\n",
      "ERROR (aesara.graph.opt): TRACEBACK:\n",
      "ERROR (aesara.graph.opt): Traceback (most recent call last):\n",
      "  File \"/Users/larryshamalama/Documents/GitHub/aesara/aesara/graph/opt.py\", line 1907, in process_node\n",
      "    fgraph.replace_all_validate_remove(repl_pairs, reason=lopt, remove=remove)\n",
      "  File \"/Users/larryshamalama/Documents/GitHub/aesara/aesara/graph/features.py\", line 625, in replace_all_validate_remove\n",
      "    chk = fgraph.replace_all_validate(replacements, reason=reason, **kwargs)\n",
      "  File \"/Users/larryshamalama/Documents/GitHub/aesara/aesara/graph/features.py\", line 570, in replace_all_validate\n",
      "    fgraph.replace(r, new_r, reason=reason, verbose=False, **kwargs)\n",
      "  File \"/Users/larryshamalama/Documents/GitHub/aesara/aesara/graph/fg.py\", line 487, in replace\n",
      "    new_var = var.type.filter_variable(new_var, allow_convert=True)\n",
      "  File \"/Users/larryshamalama/Documents/GitHub/aesara/aesara/tensor/type.py\", line 261, in filter_variable\n",
      "    raise TypeError(\n",
      "TypeError: Cannot convert Type TensorType(float64, (3,)) (of Variable TensorConstant{(3,) of 1.0}) into Type TensorType(float64, (13,)). You can try to manually convert TensorConstant{(3,) of 1.0} into a TensorType(float64, (13,)).\n",
      "\n",
      "<<!! BUG IN FGRAPH.REPLACE OR A LISTENER !!>> <class 'TypeError'> Cannot convert Type TensorType(float64, (3,)) (of Variable TensorConstant{(3,) of 1.0}) into Type TensorType(float64, (13,)). You can try to manually convert TensorConstant{(3,) of 1.0} into a TensorType(float64, (13,)). constant_folding\n",
      "ERROR (aesara.graph.opt): Optimization failure due to: constant_folding\n",
      "ERROR (aesara.graph.opt): node: Split{2}(TensorConstant{(13,) of 1.0}, TensorConstant{0}, TensorConstant{[ 3 10]})\n",
      "ERROR (aesara.graph.opt): TRACEBACK:\n",
      "ERROR (aesara.graph.opt): Traceback (most recent call last):\n",
      "  File \"/Users/larryshamalama/Documents/GitHub/aesara/aesara/graph/opt.py\", line 1907, in process_node\n",
      "    fgraph.replace_all_validate_remove(repl_pairs, reason=lopt, remove=remove)\n",
      "  File \"/Users/larryshamalama/Documents/GitHub/aesara/aesara/graph/features.py\", line 625, in replace_all_validate_remove\n",
      "    chk = fgraph.replace_all_validate(replacements, reason=reason, **kwargs)\n",
      "  File \"/Users/larryshamalama/Documents/GitHub/aesara/aesara/graph/features.py\", line 570, in replace_all_validate\n",
      "    fgraph.replace(r, new_r, reason=reason, verbose=False, **kwargs)\n",
      "  File \"/Users/larryshamalama/Documents/GitHub/aesara/aesara/graph/fg.py\", line 487, in replace\n",
      "    new_var = var.type.filter_variable(new_var, allow_convert=True)\n",
      "  File \"/Users/larryshamalama/Documents/GitHub/aesara/aesara/tensor/type.py\", line 261, in filter_variable\n",
      "    raise TypeError(\n",
      "TypeError: Cannot convert Type TensorType(float64, (3,)) (of Variable TensorConstant{(3,) of 1.0}) into Type TensorType(float64, (13,)). You can try to manually convert TensorConstant{(3,) of 1.0} into a TensorType(float64, (13,)).\n",
      "\n"
     ]
    },
    {
     "data": {
      "text/plain": [
       "array([-1.41893853, -1.41893853, -1.41893853, -1.        , -1.        ,\n",
       "       -1.        , -1.        , -1.        , -1.        , -1.        ,\n",
       "       -1.        , -1.        , -1.        ])"
      ]
     },
     "execution_count": 14,
     "metadata": {},
     "output_type": "execute_result"
    }
   ],
   "source": [
    "rv = at.concatenate(\n",
    "    [\n",
    "        at.random.normal(size=3,),\n",
    "        at.random.exponential(size=10,),\n",
    "    ]\n",
    ")\n",
    "\n",
    "joint_logprob({rv: at.constant(np.ones(shape=13), dtype=float)}, sum=False).eval()"
   ]
  },
  {
   "cell_type": "code",
   "execution_count": 18,
   "id": "ff573964",
   "metadata": {},
   "outputs": [
    {
     "data": {
      "text/plain": [
       "array([-1.41893853, -1.41893853, -1.41893853, -1.        , -1.        ,\n",
       "       -1.        , -1.        , -1.        , -1.        , -1.        ,\n",
       "       -1.        , -1.        , -1.        ])"
      ]
     },
     "execution_count": 18,
     "metadata": {},
     "output_type": "execute_result"
    }
   ],
   "source": [
    "cum_sum_rv = at.cumsum(rv, axis=-1)\n",
    "\n",
    "joint_logprob({cum_sum_rv: at.constant(np.arange(start=1, stop=14, dtype=float))}, sum=False).eval()"
   ]
  },
  {
   "cell_type": "code",
   "execution_count": 19,
   "id": "2b2939e4",
   "metadata": {},
   "outputs": [
    {
     "data": {
      "text/plain": [
       "array(-18.44620093)"
      ]
     },
     "execution_count": 19,
     "metadata": {},
     "output_type": "execute_result"
    }
   ],
   "source": [
    "many_normals = at.random.normal(size=(10,))\n",
    "grw_rv_op = at.cumsum(many_normals, axis=-1)\n",
    "\n",
    "at.sum(joint_logprob({grw_rv_op: at.constant(np.arange(start=1, stop=14, dtype=float))}, sum=False), axis=-1).eval()"
   ]
  },
  {
   "cell_type": "code",
   "execution_count": 20,
   "id": "249cbed0",
   "metadata": {},
   "outputs": [],
   "source": [
    "grw = pm.GaussianRandomWalk.dist(steps=12)\n",
    "# pm.GaussianRandomWalk.logp(np.arange(start=1, stop=14, dtype=float))"
   ]
  },
  {
   "cell_type": "code",
   "execution_count": 21,
   "id": "922b502a",
   "metadata": {},
   "outputs": [
    {
     "data": {
      "text/plain": [
       "array([-1.41893853, -1.41893853, -1.41893853, -1.41893853, -1.41893853,\n",
       "       -1.41893853, -1.41893853, -1.41893853, -1.41893853, -1.41893853,\n",
       "       -1.41893853, -1.41893853, -1.41893853])"
      ]
     },
     "execution_count": 21,
     "metadata": {},
     "output_type": "execute_result"
    }
   ],
   "source": [
    "pm.logp(grw, np.arange(start=1, stop=14, dtype=float)).eval()"
   ]
  },
  {
   "cell_type": "code",
   "execution_count": 22,
   "id": "464d0d06",
   "metadata": {},
   "outputs": [
    {
     "data": {
      "text/plain": [
       "-18.44620089"
      ]
     },
     "execution_count": 22,
     "metadata": {},
     "output_type": "execute_result"
    }
   ],
   "source": [
    "-1.41893853*13"
   ]
  },
  {
   "cell_type": "code",
   "execution_count": null,
   "id": "17888207",
   "metadata": {},
   "outputs": [],
   "source": []
  }
 ],
 "metadata": {
  "kernelspec": {
   "display_name": "pymc-dev-py39",
   "language": "python",
   "name": "pymc-dev-py39"
  },
  "language_info": {
   "codemirror_mode": {
    "name": "ipython",
    "version": 3
   },
   "file_extension": ".py",
   "mimetype": "text/x-python",
   "name": "python",
   "nbconvert_exporter": "python",
   "pygments_lexer": "ipython3",
   "version": "3.9.12"
  }
 },
 "nbformat": 4,
 "nbformat_minor": 5
}
