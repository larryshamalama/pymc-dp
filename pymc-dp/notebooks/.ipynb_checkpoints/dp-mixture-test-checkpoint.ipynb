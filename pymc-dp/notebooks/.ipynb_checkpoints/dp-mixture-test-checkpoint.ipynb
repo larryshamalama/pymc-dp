{
 "cells": [
  {
   "cell_type": "code",
   "execution_count": 8,
   "id": "03f5a78f",
   "metadata": {},
   "outputs": [],
   "source": [
    "import pymc as pm\n",
    "import numpy as np\n",
    "import pandas as pd\n",
    "\n",
    "import arviz as az\n",
    "\n",
    "import matplotlib.pyplot as plt\n",
    "\n",
    "from scipy.stats import norm\n",
    "\n",
    "from pymc.distributions import NoDistribution\n",
    "from pymc.distributions.distribution import Discrete, NoDistribution\n",
    "from pymc.model import modelcontext\n",
    "from pymc import Mixture\n",
    "\n",
    "from pymc_experimental import dp\n",
    "\n",
    "from aesara.tensor.random.basic import RandomVariable"
   ]
  },
  {
   "cell_type": "code",
   "execution_count": 2,
   "id": "7fe2a1e8",
   "metadata": {},
   "outputs": [],
   "source": [
    "faithful = pd.read_csv(\"/Users/larryshamalama/Downloads/faithful.tsv\", sep=\"\\t\")\n",
    "data = faithful[\"waiting\"].values\n",
    "data = (data - data.mean())/data.std()"
   ]
  },
  {
   "cell_type": "code",
   "execution_count": 3,
   "id": "a815faad",
   "metadata": {},
   "outputs": [],
   "source": [
    "class DirichletProcessMixture:\n",
    "    \n",
    "    def __new__(cls, name, G0, alpha, K, **kwargs):\n",
    "        \n",
    "        return _dirichlet_process_mixture(\n",
    "            name=name, G0=G0, alpha=alpha, K=K, **kwargs,\n",
    "        )\n",
    "    \n",
    "    @classmethod\n",
    "    def dist(cls, name, G0, alpha, K, **kwargs):\n",
    "        return _dirichlet_process_mixture(\n",
    "            name=None, G0=G0, alpha=alpha, K=K, **kwargs,\n",
    "        )\n",
    "\n",
    "\n",
    "def _dirichlet_process_mixture(*, name, G0, alpha, K, **kwargs):\n",
    "    sbw = pm.StickBreakingWeights(\"sbw\", alpha, K)\n",
    "    \n",
    "    if name is not None:\n",
    "        return Mixture(name, sbw, G0, **kwargs)\n",
    "    else:\n",
    "        return Mixture.dist(sbw, G0, **kwargs)"
   ]
  },
  {
   "cell_type": "code",
   "execution_count": 4,
   "id": "21bcdbf6",
   "metadata": {},
   "outputs": [
    {
     "name": "stderr",
     "output_type": "stream",
     "text": [
      "Auto-assigning NUTS sampler...\n",
      "Initializing NUTS using jitter+adapt_diag...\n",
      "Sequential sampling (1 chains in 1 job)\n",
      "NUTS: [alpha, mu, sigma, sbw]\n"
     ]
    },
    {
     "data": {
      "text/html": [
       "\n",
       "<style>\n",
       "    /* Turns off some styling */\n",
       "    progress {\n",
       "        /* gets rid of default border in Firefox and Opera. */\n",
       "        border: none;\n",
       "        /* Needs to be in here for Safari polyfill so background images work as expected. */\n",
       "        background-size: auto;\n",
       "    }\n",
       "    .progress-bar-interrupted, .progress-bar-interrupted::-webkit-progress-bar {\n",
       "        background: #F44336;\n",
       "    }\n",
       "</style>\n"
      ],
      "text/plain": [
       "<IPython.core.display.HTML object>"
      ]
     },
     "metadata": {},
     "output_type": "display_data"
    },
    {
     "data": {
      "text/html": [
       "\n",
       "    <div>\n",
       "      <progress value='15000' class='' max='15000' style='width:300px; height:20px; vertical-align: middle;'></progress>\n",
       "      100.00% [15000/15000 53:05<00:00 Sampling chain 0, 0 divergences]\n",
       "    </div>\n",
       "    "
      ],
      "text/plain": [
       "<IPython.core.display.HTML object>"
      ]
     },
     "metadata": {},
     "output_type": "display_data"
    },
    {
     "name": "stderr",
     "output_type": "stream",
     "text": [
      "Sampling 1 chain for 5_000 tune and 10_000 draw iterations (5_000 + 10_000 draws total) took 3186 seconds.\n",
      "The chain reached the maximum tree depth. Increase max_treedepth, increase target_accept or reparameterize.\n"
     ]
    }
   ],
   "source": [
    "K = 11\n",
    "\n",
    "with pm.Model() as model:\n",
    "    alpha = pm.Gamma(\"alpha\", 0.5, 0.5)\n",
    "    mu = pm.Normal(name=\"mu\", sigma=5., shape=(K+1,))\n",
    "    sigma = pm.Gamma(\"sigma\", 0.5, 0.5, shape=(K+1,))\n",
    "    G0 = pm.Normal.dist(mu, sigma=sigma)\n",
    "    dpm = DirichletProcessMixture(name=\"dpm\", G0=G0, alpha=alpha, K=K, observed=data)\n",
    "    \n",
    "    trace = pm.sample(chains=1, draws=10000, tune=5000, target_accept=0.95)"
   ]
  },
  {
   "cell_type": "code",
   "execution_count": 5,
   "id": "32e41d18",
   "metadata": {},
   "outputs": [],
   "source": [
    "x_plot = np.linspace(-3, 3, num=1001)[..., None]\n",
    "\n",
    "def plot_density_draw(x):\n",
    "    pass"
   ]
  },
  {
   "cell_type": "code",
   "execution_count": 32,
   "id": "caf1feb9",
   "metadata": {},
   "outputs": [
    {
     "data": {
      "text/plain": [
       "3.6958526294053764e-07"
      ]
     },
     "execution_count": 32,
     "metadata": {},
     "output_type": "execute_result"
    }
   ],
   "source": [
    "trace.to_dict()[\"posterior\"][\"alpha\"].std()"
   ]
  },
  {
   "cell_type": "code",
   "execution_count": 31,
   "id": "c1a4ec09",
   "metadata": {},
   "outputs": [
    {
     "data": {
      "text/plain": [
       "array([[2.81109998e-07, 3.08383721e-07, 1.55565394e-11, 2.84426470e-07,\n",
       "        2.29628556e-07, 2.84734742e-07, 2.91951755e-07, 2.03092807e-07,\n",
       "        3.53129726e-07, 2.99230899e-07, 4.81625276e-07, 3.84175740e-07]])"
      ]
     },
     "execution_count": 31,
     "metadata": {},
     "output_type": "execute_result"
    }
   ],
   "source": [
    "trace.to_dict()[\"posterior\"][\"mu\"].std(axis=1)"
   ]
  },
  {
   "cell_type": "code",
   "execution_count": 33,
   "id": "ea552981",
   "metadata": {},
   "outputs": [
    {
     "data": {
      "text/plain": [
       "array([[2.97571435e-07, 9.67111384e-08, 8.93882248e-18, 2.81197033e-08,\n",
       "        1.26392294e-07, 4.32155678e-08, 1.25917042e-07, 6.40499659e-08,\n",
       "        1.18677854e-07, 3.27073419e-07, 1.99484262e-07, 1.61897729e-07]])"
      ]
     },
     "execution_count": 33,
     "metadata": {},
     "output_type": "execute_result"
    }
   ],
   "source": [
    "trace.to_dict()[\"posterior\"][\"sigma\"].std(axis=1)"
   ]
  },
  {
   "cell_type": "code",
   "execution_count": 35,
   "id": "6a85d03f",
   "metadata": {},
   "outputs": [
    {
     "data": {
      "text/plain": [
       "array([[6.16854841e-08, 8.06791411e-08, 2.86831773e-08, 2.18036939e-10,\n",
       "        1.31955586e-10, 1.19398764e-10, 3.38888050e-11, 4.18155248e-11,\n",
       "        6.35481532e-15, 1.68854923e-15, 1.08520871e-16, 6.19462697e-17]])"
      ]
     },
     "execution_count": 35,
     "metadata": {},
     "output_type": "execute_result"
    }
   ],
   "source": [
    "trace.to_dict()[\"posterior\"][\"sbw\"].std(axis=1)"
   ]
  },
  {
   "cell_type": "code",
   "execution_count": null,
   "id": "d0fee7b5",
   "metadata": {},
   "outputs": [],
   "source": []
  }
 ],
 "metadata": {
  "kernelspec": {
   "display_name": "pymc-dev-py39",
   "language": "python",
   "name": "pymc-dev-py39"
  },
  "language_info": {
   "codemirror_mode": {
    "name": "ipython",
    "version": 3
   },
   "file_extension": ".py",
   "mimetype": "text/x-python",
   "name": "python",
   "nbconvert_exporter": "python",
   "pygments_lexer": "ipython3",
   "version": "3.9.12"
  }
 },
 "nbformat": 4,
 "nbformat_minor": 5
}
